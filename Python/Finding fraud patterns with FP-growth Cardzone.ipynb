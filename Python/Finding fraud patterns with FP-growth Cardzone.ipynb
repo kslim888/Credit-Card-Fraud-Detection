{
 "cells": [
  {
   "cell_type": "markdown",
   "metadata": {},
   "source": [
    "# Finding fraud patterns with FP-growth"
   ]
  },
  {
   "cell_type": "markdown",
   "metadata": {},
   "source": [
    "# Data Collection and Investigation"
   ]
  },
  {
   "cell_type": "code",
   "execution_count": null,
   "metadata": {
    "scrolled": false
   },
   "outputs": [],
   "source": [
    "import pandas as pd\n",
    "\n",
    "df = pd.read_excel('D:/Python Project/Credit Card Fraud Detection/cardzone dataset/fraud_set.xlsx')\n",
    "\n",
    "# printing the first 5 columns for data visualization \n",
    "df.head()\n"
   ]
  },
  {
   "cell_type": "markdown",
   "metadata": {},
   "source": [
    "## Execute FP-growth algorithm\n",
    "spark, orange, pyfpgrowth"
   ]
  },
  {
   "cell_type": "markdown",
   "metadata": {},
   "source": [
    "## Spark"
   ]
  },
  {
   "cell_type": "code",
   "execution_count": null,
   "metadata": {
    "scrolled": false
   },
   "outputs": [],
   "source": [
    "# import environment path to pyspark\n",
    "import os\n",
    "import sys\n",
    "\n",
    "spark_path = r\"D:\\apache-spark\" # spark installed folder\n",
    "os.environ['SPARK_HOME'] = spark_path\n",
    "sys.path.insert(0, spark_path + \"/bin\")\n",
    "sys.path.insert(0, spark_path + \"/python/pyspark/\")\n",
    "sys.path.insert(0, spark_path + \"/python/lib/pyspark.zip\")\n",
    "sys.path.insert(0, spark_path + \"/python/lib/py4j-0.10.7-src.zip\")\n"
   ]
  },
  {
   "cell_type": "code",
   "execution_count": null,
   "metadata": {
    "scrolled": false
   },
   "outputs": [],
   "source": [
    "# Export csv to txt file. Put header=None for exclude first row as column name\n",
    "df.to_csv('processed_itemsets.txt', header=None, index=None, sep=' ', mode='w+')\n"
   ]
  },
  {
   "cell_type": "code",
   "execution_count": null,
   "metadata": {
    "scrolled": false
   },
   "outputs": [],
   "source": [
    "import csv\n",
    "\n",
    "# creating necessary variable\n",
    "new_itemsets_list = []\n",
    "skip_first_iteration = 1\n",
    "\n",
    "# find the duplicate item and add a subscript at behind\n",
    "with open(\"processed_itemsets.txt\", 'r') as fp:\n",
    "    itemsets_list = csv.reader(fp, delimiter =' ', skipinitialspace=True) \n",
    "    for itemsets in itemsets_list:\n",
    "        unique_itemsets = []\n",
    "        counter = 2\n",
    "        for item in itemsets:\n",
    "            if itemsets.count(item) > 1:\n",
    "                \n",
    "                if skip_first_iteration == 1:\n",
    "                    unique_itemsets.append(item)\n",
    "                    skip_first_iteration = skip_first_iteration + 1\n",
    "                    continue\n",
    "                   \n",
    "                duplicate_item = item + \"__(\" + str(counter) + \")\"\n",
    "                unique_itemsets.append(duplicate_item)\n",
    "                counter = counter + 1\n",
    "            else:\n",
    "                unique_itemsets.append(item)\n",
    "#         print(itemsets)\n",
    "        new_itemsets_list.append(unique_itemsets)\n",
    "\n",
    "        "
   ]
  },
  {
   "cell_type": "code",
   "execution_count": null,
   "metadata": {
    "scrolled": false
   },
   "outputs": [],
   "source": [
    "new_final_list = []\n",
    "for item_list in new_itemsets_list:\n",
    "    item_list = [item.replace(' ', '') for item in item_list]\n",
    "    new_final_list.append(item_list)\n"
   ]
  },
  {
   "cell_type": "code",
   "execution_count": null,
   "metadata": {
    "scrolled": false
   },
   "outputs": [],
   "source": [
    "# write the new itemsets into file\n",
    "with open('processed_itemsets.txt', 'w+') as f:\n",
    "    for items in new_final_list:\n",
    "        for item in items:\n",
    "            f.write(\"{} \".format(item))\n",
    "        f.write(\"\\n\")\n",
    "        "
   ]
  },
  {
   "cell_type": "code",
   "execution_count": null,
   "metadata": {
    "scrolled": false
   },
   "outputs": [],
   "source": [
    "from pyspark import SparkContext\n",
    "from pyspark.mllib.fpm import FPGrowth\n",
    "\n",
    "# initialize spark\n",
    "sc = SparkContext.getOrCreate()"
   ]
  },
  {
   "cell_type": "code",
   "execution_count": null,
   "metadata": {
    "scrolled": false
   },
   "outputs": [],
   "source": [
    "data = sc.textFile('processed_itemsets.txt').cache()\n",
    "transactions = data.map(lambda line: line.strip().split(' '))\n"
   ]
  },
  {
   "cell_type": "markdown",
   "metadata": {},
   "source": [
    "__minSupport__: The minimum support for an itemset to be identified as frequent. <br>\n",
    "For example, if an item appears 3 out of 5 transactions, it has a support of 3/5=0.6.\n",
    "\n",
    "__minConfidence__: Minimum confidence for generating Association Rule. Confidence is an indication of how often an association rule has been found to be true. For example, if in the transactions itemset X appears 4 times, X and Y co-occur only 2 times, the confidence for the rule X => Y is then 2/4 = 0.5.\n",
    "\n",
    "__numPartitions__: The number of partitions used to distribute the work. By default the param is not set, and number of partitions of the input dataset is used"
   ]
  },
  {
   "cell_type": "code",
   "execution_count": null,
   "metadata": {
    "scrolled": false
   },
   "outputs": [],
   "source": [
    "model = FPGrowth.train(transactions, minSupport=0.5, numPartitions=10)\n",
    "result = model.freqItemsets().collect()\n"
   ]
  },
  {
   "cell_type": "code",
   "execution_count": null,
   "metadata": {
    "scrolled": true
   },
   "outputs": [],
   "source": [
    "print(\"Frequent Itemsets : Item Support\")\n",
    "print(\"====================================\")\n",
    "for index, frequent_itemset in enumerate(result):\n",
    "    print(str(frequent_itemset.items) + ' : ' + str(frequent_itemset.freq))\n",
    "#     if index != 10:\n",
    "#         print(str(fi.items) + ' : ' + str(frequent_itemset.freq))\n",
    "#     else:\n",
    "#         break\n"
   ]
  },
  {
   "cell_type": "code",
   "execution_count": null,
   "metadata": {
    "scrolled": false
   },
   "outputs": [],
   "source": [
    "# Association Rules\n",
    "rules = sorted(model._java_model.generateAssociationRules(0.8).collect(), key=lambda x: x.confidence(), reverse=True)\n"
   ]
  },
  {
   "cell_type": "code",
   "execution_count": null,
   "metadata": {
    "scrolled": true
   },
   "outputs": [],
   "source": [
    "print(\"Antecedent => Consequent : Min Confidence\")\n",
    "print(\"========================================\")\n",
    "for i, rule in enumerate(rules[:200]):\n",
    "#     print(i)\n",
    "    print(rule)"
   ]
  },
  {
   "cell_type": "code",
   "execution_count": null,
   "metadata": {
    "scrolled": false
   },
   "outputs": [],
   "source": [
    "# stop spark session\n",
    "sc.stop()"
   ]
  },
  {
   "cell_type": "code",
   "execution_count": null,
   "metadata": {
    "scrolled": false
   },
   "outputs": [],
   "source": []
  }
 ],
 "metadata": {
  "kernelspec": {
   "display_name": "Python 3",
   "language": "python",
   "name": "python3"
  },
  "language_info": {
   "codemirror_mode": {
    "name": "ipython",
    "version": 3
   },
   "file_extension": ".py",
   "mimetype": "text/x-python",
   "name": "python",
   "nbconvert_exporter": "python",
   "pygments_lexer": "ipython3",
   "version": "3.6.5"
  }
 },
 "nbformat": 4,
 "nbformat_minor": 1
}
