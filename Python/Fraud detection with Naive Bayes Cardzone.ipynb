{
 "cells": [
  {
   "cell_type": "markdown",
   "metadata": {},
   "source": [
    "# Fraud Detection with Naive Bayes on Cardzone dataset"
   ]
  },
  {
   "cell_type": "code",
   "execution_count": null,
   "metadata": {},
   "outputs": [],
   "source": [
    "import numpy as np\n",
    "import pandas as pd\n",
    "import matplotlib.pyplot as plt\n",
    "import seaborn as sns\n",
    "\n",
    "from matplotlib import style\n",
    "from sklearn.metrics import confusion_matrix, f1_score, recall_score, precision_score, accuracy_score, average_precision_score,  precision_recall_curve\n"
   ]
  },
  {
   "cell_type": "markdown",
   "metadata": {},
   "source": [
    "# Data Collection and Investigation"
   ]
  },
  {
   "cell_type": "markdown",
   "metadata": {},
   "source": [
    "__Import from SQL__ <br>\n",
    "2 sample rule to indicate the fraud label\n",
    "    1. High Risk Countries based on currency code\n",
    "    2. Transaction that occured from midnight until 5am\n",
    "\n",
    "__Currency Code__ <br>\n",
    "971 - AFGHANISTAN <br>\n",
    "643 - RUSSIAN <br>\n",
    "586 - PAKISTAN\n",
    "\n",
    "__SQL Statement__ <br>\n",
    "UPDATE `cz_authtxn` <br>\n",
    "SET `AUTHTXN_FRAUD_CHECK` = CASE <br>\n",
    "&emsp; WHEN AUTHTXN_CURRENCY_CODE = 971 AND AUTHTXN_TRXN_TIME < 050000 THEN 'D' <br>\n",
    "&emsp; WHEN AUTHTXN_CURRENCY_CODE = 643 AND AUTHTXN_TRXN_TIME < 050000 THEN 'D' <br>\n",
    "&emsp; WHEN AUTHTXN_CURRENCY_CODE = 586 AND AUTHTXN_TRXN_TIME < 050000 THEN 'D' <br>\n",
    "&emsp; ELSE 'F' <br>\n",
    "END"
   ]
  },
  {
   "cell_type": "code",
   "execution_count": null,
   "metadata": {},
   "outputs": [],
   "source": [
    "# Input data files are available in the \"../input/\" directory\n",
    "df = pd.read_csv('D:/Python Project/Credit Card Fraud Detection/cardzone dataset/cz_authtxn.csv', skipinitialspace=True)\n",
    "    \n",
    "# print number of records in the dataset\n",
    "print(\"Number of records:\" , len(df))\n",
    "print(\"Number of features:\" , len(df.columns))\n",
    "\n",
    "# check is there any null value in cells at columns\n",
    "print(\"Number of features that has empty cells\" , len(df.columns[df.isna().any()].tolist()))\n",
    "\n",
    "df.columns[df.isna().any()].tolist()\n"
   ]
  },
  {
   "cell_type": "code",
   "execution_count": null,
   "metadata": {},
   "outputs": [],
   "source": [
    "# Columns that have mixed type. But checked it is actually blank cells mixed\n",
    "\n",
    "# print(df.columns.get_values()[17])\n",
    "# print(df.columns.get_values()[21])\n",
    "# print(df.columns.get_values()[88])\n",
    "# print(df.columns.get_values()[89])\n",
    "# print(df.columns.get_values()[104])\n",
    "# print(df.columns.get_values()[136])\n",
    "# print(df.columns.get_values()[137])\n",
    "# print(df.columns.get_values()[166])\n",
    "# print(df.columns.get_values()[182])"
   ]
  },
  {
   "cell_type": "code",
   "execution_count": null,
   "metadata": {},
   "outputs": [],
   "source": [
    "# Checks how many fraud in this dataset\n",
    "print(df['AUTHTXN_FRAUD_CHECK'].value_counts())\n",
    "\n",
    "print('\\nFraud is {}% of our data.'.format(df['AUTHTXN_FRAUD_CHECK'].value_counts()['D'] / float(df['AUTHTXN_FRAUD_CHECK'].value_counts()['F'])*100))\n"
   ]
  },
  {
   "cell_type": "code",
   "execution_count": null,
   "metadata": {},
   "outputs": [],
   "source": [
    "# Check Class variables that has 0 value for Genuine transactions and 1 for Fraud\n",
    "print(\"Class as pie chart:\")\n",
    "fig, ax = plt.subplots(1, 1)\n",
    "ax.pie(df.AUTHTXN_FRAUD_CHECK.value_counts(),autopct='%1.1f%%', labels=['Legitimate','Fraud'], colors=['yellowgreen','r'])\n",
    "plt.axis('equal')\n",
    "plt.ylabel('')"
   ]
  },
  {
   "cell_type": "markdown",
   "metadata": {},
   "source": [
    "Conclusion = Imbalance. Learning of the data highly bias "
   ]
  },
  {
   "cell_type": "markdown",
   "metadata": {},
   "source": [
    "# Data Preprocessing\n",
    "## Deal with missing values\n",
    "There are several strategies to deal with missing data and there is no exact right answer\n",
    "- A value from another randomly selected record.\n",
    "- A mean, median or mode value for the column. (reduces variance in the dataset)\n",
    "    - Categorical NaNs for mode\n",
    "    - Numerical NaNs for mean\n",
    "    - If there are outliers in Numerical, try median (less sensitive to them)\n",
    "- Drop those record / column\n",
    "- A value estimated by another predictive model.\n",
    "- A distint constant value, such as 0 or -9999\n",
    "\n",
    "However, missing values does not necessarily means to missing information. <br>\n",
    "For example, if someone does not own a car, then of course it has no color resulting in missing value <br>\n",
    "If replace the missing value with some other value might leads to wrong result"
   ]
  },
  {
   "cell_type": "markdown",
   "metadata": {},
   "source": [
    "### Drop columns which has over 70% NaN values \n",
    "If a particular column has over 60% or 70% NaN values, it is better to drop it because it does not contributes towards giving information to ML model \n",
    "https://www.researchgate.net/publication/239608247_Machine_Learning_Based_Missing_Value_Imputation_Method_for_Clinical_Datasets"
   ]
  },
  {
   "cell_type": "code",
   "execution_count": null,
   "metadata": {},
   "outputs": [],
   "source": [
    "# First, print out the exact 30% records number that i want to keep the column\n",
    "# Require that many non-NA values\n",
    "print(\"Number of records that i want to keep in columns : \", len(df) * 0.3)\n",
    "\n",
    "df.isna().mean().round(4) * 100\n",
    "\n",
    "# Now, drop any columns that has 70% NaN\n",
    "# Require that many non-NA values.\n",
    "df.dropna(thresh=0.3*len(df), axis=1, inplace=True)\n"
   ]
  },
  {
   "cell_type": "code",
   "execution_count": null,
   "metadata": {
    "scrolled": true
   },
   "outputs": [],
   "source": [
    "# print list of columns after initial drop\n",
    "print(\"The number of columns after initial dropping is \", len(df.columns))\n",
    "print(df.columns)\n",
    "\n",
    "# Recheck still got any left out blank cell in the columns that does not meet threshold\n",
    "print(\"\\nThe number of blank records in columns after initial dropping is \", len(df.columns[df.isna().any()]))\n",
    "df.columns[df.isna().any()].tolist()\n"
   ]
  },
  {
   "cell_type": "markdown",
   "metadata": {},
   "source": [
    "### Drop unnecessary columns according to prototype design document"
   ]
  },
  {
   "cell_type": "code",
   "execution_count": null,
   "metadata": {},
   "outputs": [],
   "source": [
    "drop_columns = ['AUTHTXN_NO', 'AUTHTXN_CARDHOLDER_NAME', 'AUTHTXN_SYSTEM_ID', 'AUTHTXN_APPROVED_AMT', 'AUTHTXN_STAN',\n",
    "                'AUTHTXN_PREV_STAN', 'AUTHTXN_TRANS_DATETIME', 'AUTHTXN_REQUEST_DATE', 'AUTHTXN_REQUEST_TIME', 'AUTHTXN_RESPONSE_DATE',\n",
    "                'AUTHTXN_RESPONSE_TIME', 'AUTHTXN_SETTLED_DATE', 'AUTHTXN_LAST_UPDATE_DATE', 'AUTHTXN_LAST_UPDATE_TIME', 'AUTHTXN_CARD_EXPIRY_DATE',\n",
    "                'AUTHTXN_POS_COND_CODE', 'AUTHTXN_RETRIEVAL_REFNO', 'AUTHTXN_OLD_RETRIEVAL_REFNO', 'AUTHTXN_APPROVAL_CODE', 'AUTHTXN_RESPONSE_CODE',\n",
    "                'AUTHTXN_MERCHANT_NAME', 'AUTHTXN_SETTLED_IND', 'AUTHTXN_AUTO_EXPIRY_DATE', 'AUTHTXN_SUBSIDY_REBATE_AMT', 'AUTHTXN_MERC_MDR_AMT',\n",
    "                'AUTHTXN_MERC_COMM_AMT', 'AUTHTXN_PROCESSEDBY', 'AUTHTXN_TYPE', 'AUTHTXN_INTERCHG_IND', 'AUTHTXN_GEOGRAPHY_IND',\n",
    "                'AUTHTXN_BONUS','AUTHTXN_FEE', 'AUTHTXN_ACQ_CHARGE_AT_IND', 'AUTHTXN_POST_IND', 'AUTHTXN_COMPONENT_ID',\n",
    "                'AUTHTXN_MTI', 'AUTHTXN_PROC_CD', 'AUTHTXN_BONUS_POINT', 'AUTHTXN_TERMBONUS_POINT', 'VERSION',\n",
    "                'AUTHTXN_SUBSIDY_REBATE_QTY', 'AUTHTXN_STMT_INC_BONUS', 'AUTHTXN_STMT_INC_FEE', 'AUTHTXN_STMT_INC_COST', 'AUTHTXN_STMT_INC_COMM',\n",
    "                'AUTHTXN_EBONUS', 'AUTHTXN_EFEE', 'AUTHTXN_SERVICE_CODE', 'AUTHTXN_ALT_RESPONSE_CODE', 'AUTHTXN_GST_AMT',\n",
    "                'AUTHTXN_MERC_GST_AMT', 'AUTHTXN_VTXNTYPGRP_ID', 'AUTHTXN_EDC_SETTLED_IND', 'AUTHTXN_VS_TRXN_ID', 'AUTHTXN_MATCH_PREVTXN_IND',\n",
    "                'AUTHTXN_ACQ_INST_ID', 'AUTHTXN_EDC_SETTLED_DATE', 'AUTHTXN_INTERBRANCH_IND', 'AUTHTXN_PIN_BASED', 'AUTHTXN_EXP_IND',\n",
    "                'AUTHTXN_FOREX_MARKUP_AMT', 'AUTHTXN_EXCESS_AMT']\n",
    "\n",
    "for col in drop_columns:\n",
    "    df.drop(col, axis=1, inplace=True)"
   ]
  },
  {
   "cell_type": "code",
   "execution_count": null,
   "metadata": {
    "scrolled": false
   },
   "outputs": [],
   "source": [
    "print(\"The number of columns after second dropping is \", len(df.columns))\n",
    "print(df.columns)\n",
    "\n",
    "print(\"\\nThe number of blank records in columns after second dropping is \", len(df.columns[df.isna().any()]))\n",
    "df.columns[df.isna().any()].tolist()\n"
   ]
  },
  {
   "cell_type": "code",
   "execution_count": null,
   "metadata": {
    "scrolled": true
   },
   "outputs": [],
   "source": [
    "# print in a graphical way to visualize\n",
    "import missingno as msno\n",
    "\n",
    "msno.bar(df.sample(3000))\n"
   ]
  },
  {
   "cell_type": "code",
   "execution_count": null,
   "metadata": {},
   "outputs": [],
   "source": [
    "# check unique values count in columns\n",
    "df.nunique()"
   ]
  },
  {
   "cell_type": "code",
   "execution_count": null,
   "metadata": {},
   "outputs": [],
   "source": [
    "# Drop columns if only have one unique value\n",
    "for col in df.columns:\n",
    "    if len(df[col].unique()) == 1:\n",
    "        df.drop(col,inplace=True,axis=1)"
   ]
  },
  {
   "cell_type": "code",
   "execution_count": null,
   "metadata": {},
   "outputs": [],
   "source": [
    "print(\"After dropping columns\")\n",
    "print(\"=======================\")\n",
    "print(\"Number of records:\" , len(df))\n",
    "print(\"Number of features:\" , len(df.columns))"
   ]
  },
  {
   "cell_type": "code",
   "execution_count": null,
   "metadata": {
    "scrolled": true
   },
   "outputs": [],
   "source": [
    "# Impute 0 to the missing values in colum\n",
    "columns_nan_value = df.loc[:, df.isna().sum() > 0].columns\n",
    "\n",
    "for i, col in enumerate(columns_nan_value):\n",
    "    df[col].fillna(value = 0, inplace=True)"
   ]
  },
  {
   "cell_type": "code",
   "execution_count": null,
   "metadata": {},
   "outputs": [],
   "source": [
    "# recheck for any blank columns\n",
    "df.isna().sum() > 0\n"
   ]
  },
  {
   "cell_type": "markdown",
   "metadata": {},
   "source": [
    "### Convert date and time column to readable DateTime object\n",
    "First, convert their types into String, then preprocess them as follows:\n",
    "- For Dates which dont have year, assume it as 2018\n",
    "- For Time(24-hour) which dont have Hours and Minutes infront, append the time with 00 : 00 : xx <br> Because of Excel automatically delete initial 0s infront, "
   ]
  },
  {
   "cell_type": "code",
   "execution_count": null,
   "metadata": {
    "scrolled": true
   },
   "outputs": [],
   "source": [
    "df['AUTHTXN_TRXN_DATE'] = df['AUTHTXN_TRXN_DATE'].astype(str)\n",
    "df['AUTHTXN_TRXN_TIME'] = df['AUTHTXN_TRXN_TIME'].astype(str)\n"
   ]
  },
  {
   "cell_type": "code",
   "execution_count": null,
   "metadata": {},
   "outputs": [],
   "source": [
    "for i, date in enumerate(df.AUTHTXN_TRXN_DATE):\n",
    "    if len(date) == 3:\n",
    "        new_date = pd.datetime.strptime(date, '%m%d').date()\n",
    "        new_date = new_date.replace(2018, 1)\n",
    "        df.at[i, 'AUTHTXN_TRXN_DATE'] = new_date\n",
    "    elif len(date) == 4:\n",
    "        new_date = pd.datetime.strptime(date, '%m%d').date()\n",
    "        new_date = new_date.replace(2018)\n",
    "        df.at[i, 'AUTHTXN_TRXN_DATE'] = new_date\n",
    "    elif len(date) == 8:\n",
    "        new_date = pd.datetime.strptime(date, '%Y%m%d').date()\n",
    "        df.at[i, 'AUTHTXN_TRXN_DATE'] = new_date\n"
   ]
  },
  {
   "cell_type": "code",
   "execution_count": null,
   "metadata": {},
   "outputs": [],
   "source": [
    "for i, time in enumerate(df.AUTHTXN_TRXN_TIME):\n",
    "    if len(time) == 1 or len(time) == 2:\n",
    "        new_time = pd.datetime.strptime(time, '%S').time()\n",
    "        df.at[i, 'AUTHTXN_TRXN_TIME'] = new_time\n",
    "    elif len(time) == 3:\n",
    "        time = str(0) + time\n",
    "        new_time = pd.datetime.strptime(time, '%M%S').time()\n",
    "        df.at[i, 'AUTHTXN_TRXN_TIME'] = new_time\n",
    "    elif len(time) == 4:\n",
    "        new_time = pd.datetime.strptime(time, '%M%S').time()\n",
    "        df.at[i, 'AUTHTXN_TRXN_TIME'] = new_time\n",
    "    elif len(time) == 5:\n",
    "        time = str(0) + time\n",
    "        new_time = pd.datetime.strptime(time, '%H%M%S').time()\n",
    "        df.at[i, 'AUTHTXN_TRXN_TIME'] = new_time\n",
    "    elif len(time) == 6:\n",
    "        new_time = pd.datetime.strptime(time, '%H%M%S').time()\n",
    "        df.at[i, 'AUTHTXN_TRXN_TIME'] = new_time\n",
    "        "
   ]
  },
  {
   "cell_type": "code",
   "execution_count": null,
   "metadata": {},
   "outputs": [],
   "source": [
    "pd.to_datetime(df.AUTHTXN_TRXN_TIME, format='%H:%M:%S').dt.hour.value_counts().sort_index().plot() "
   ]
  },
  {
   "cell_type": "markdown",
   "metadata": {},
   "source": [
    "### Enrich the dataset by extract additional features from the time values\n",
    "A common step in \"Feature Engineering\" is parsing datetime into multiple values that might give additional information during ML. <br>\n",
    "For example:\n",
    "- Time of day (morning / afternoon / etc)\n",
    "- Hour of the day\n",
    "- What Year\n",
    "- What month\n",
    "- Day of Month (1-31)\n",
    "- Day of the week (7)\n",
    "\n",
    "From all these, you can infer \n",
    "- Is there any special events / holidays \n",
    "- Is the week where salary is out"
   ]
  },
  {
   "cell_type": "code",
   "execution_count": null,
   "metadata": {},
   "outputs": [],
   "source": [
    "df[\"Year\"] = pd.to_datetime(df.AUTHTXN_TRXN_DATE).dt.year\n",
    "df[\"Month\"] = pd.to_datetime(df.AUTHTXN_TRXN_DATE).dt.month\n",
    "df[\"Day\"] = pd.to_datetime(df.AUTHTXN_TRXN_DATE).dt.day\n",
    "df[\"Day_of_week\"] = pd.to_datetime(df.AUTHTXN_TRXN_DATE).dt.dayofweek\n",
    "df[\"Hour\"] = df.AUTHTXN_TRXN_TIME.dt.hour\n",
    "\n",
    "hours = df['Hour']\n",
    "\n",
    "# Period of time labeling\n",
    "bins = [-1, 4, 8, 16, 20]\n",
    "labels = ['Midnight', 'Morning','Afternoon','Evening','Night']\n",
    "df['Period_of_time']  = np.array(labels)[np.array(bins).searchsorted(hours)-1]\n"
   ]
  },
  {
   "cell_type": "code",
   "execution_count": null,
   "metadata": {},
   "outputs": [],
   "source": [
    "# Drop AUTHTXN_TRXN_DATE and AUTHTXN_TRXN_TIME as do not need anymore\n",
    "df.drop(['AUTHTXN_TRXN_DATE'], axis=1, inplace=True)\n",
    "df.drop(['AUTHTXN_TRXN_TIME'], axis=1, inplace=True)\n"
   ]
  },
  {
   "cell_type": "code",
   "execution_count": null,
   "metadata": {},
   "outputs": [],
   "source": [
    "df.head()"
   ]
  },
  {
   "cell_type": "markdown",
   "metadata": {},
   "source": [
    "### Encoding Features\n",
    "Because of the columns contains string, it is better to convert them into continuous or categorical values before fitting into Naive Bayes during fit <br>\n",
    "For example, subject \"Maths\" to \"0\", \"History\" to \"1\", \"Biology\" to \"2\" and so on. "
   ]
  },
  {
   "cell_type": "code",
   "execution_count": null,
   "metadata": {},
   "outputs": [],
   "source": [
    "# first, map the D as 1, F as 0\n",
    "df['AUTHTXN_FRAUD_CHECK'] = df['AUTHTXN_FRAUD_CHECK'].map({'F': 0, 'D': 1})\n"
   ]
  },
  {
   "cell_type": "code",
   "execution_count": null,
   "metadata": {},
   "outputs": [],
   "source": [
    "# Replace the following types of columns to String, as it mixed with integer value\n",
    "df['AUTHTXN_MERCHANT_ID'] = df['AUTHTXN_MERCHANT_ID'].astype(str)\n",
    "df['AUTHTXN_TERMINAL_ID'] = df['AUTHTXN_TERMINAL_ID'].astype(str)\n",
    "df['AUTHTXN_SOURCE_BIZMODE'] = df['AUTHTXN_SOURCE_BIZMODE'].astype(str)\n",
    "df['AUTHTXN_DEST'] = df['AUTHTXN_DEST'].astype(str)\n",
    "df['AUTHTXN_DEST_BIZMODE'] = df['AUTHTXN_DEST_BIZMODE'].astype(str)\n",
    "df['AUTHTXN_TXN_ENTRY_MODE'] = df['AUTHTXN_TXN_ENTRY_MODE'].astype(str)\n",
    "df['AUTHTXN_CNTRYGRP_ID'] = df['AUTHTXN_CNTRYGRP_ID'].astype(str)\n",
    "df['AUTHTXN_ACQ_COMPONENT_ID'] = df['AUTHTXN_ACQ_COMPONENT_ID'].astype(str)\n",
    "df['AUTHTXN_VCNTRYGRP_ID'] = df['AUTHTXN_VCNTRYGRP_ID'].astype(str)\n",
    "df['AUTHTXN_VMCCGRP_ID'] = df['AUTHTXN_VMCCGRP_ID'].astype(str)\n",
    "\n",
    "# As it is code, put it as category\n",
    "df['AUTHTXN_COUNTRY_CODE'] = df['AUTHTXN_COUNTRY_CODE'].astype('category')\n",
    "df[\"AUTHTXN_CURRENCY_CODE\"] = df['AUTHTXN_CURRENCY_CODE'].astype('category')\n"
   ]
  },
  {
   "cell_type": "code",
   "execution_count": null,
   "metadata": {},
   "outputs": [],
   "source": [
    "df.AUTHTXN_VCNTRYGRP_ID.unique()"
   ]
  },
  {
   "cell_type": "code",
   "execution_count": null,
   "metadata": {},
   "outputs": [],
   "source": [
    "from sklearn.preprocessing import LabelEncoder\n",
    "\n",
    "label_encoder = LabelEncoder()\n",
    "\n",
    "df['AUTHTXN_TXNTYPE_ID'] = label_encoder.fit_transform(df['AUTHTXN_TXNTYPE_ID'])\n",
    "df['AUTHTXN_CARD_NO'] = label_encoder.fit_transform(df['AUTHTXN_CARD_NO'])\n",
    "df['AUTHTXN_MERCHANT_ID'] = label_encoder.fit_transform(df['AUTHTXN_MERCHANT_ID'])\n",
    "df['AUTHTXN_TERMINAL_ID'] = label_encoder.fit_transform(df['AUTHTXN_TERMINAL_ID'])\n",
    "df['AUTHTXN_SOURCE_BIZMODE'] = label_encoder.fit_transform(df['AUTHTXN_SOURCE_BIZMODE'])\n",
    "df['AUTHTXN_DEST'] = label_encoder.fit_transform(df['AUTHTXN_DEST'])\n",
    "df['AUTHTXN_DEST_BIZMODE'] = label_encoder.fit_transform(df['AUTHTXN_DEST_BIZMODE']) \n",
    "df['AUTHTXN_CHARGE_AT_IND'] = label_encoder.fit_transform(df['AUTHTXN_CHARGE_AT_IND'])\n",
    "df['AUTHTXN_CRDPLAN_ID'] = label_encoder.fit_transform(df['AUTHTXN_CRDPLAN_ID'])\n",
    "df['MOD_USER'] = label_encoder.fit_transform(df['MOD_USER'])\n",
    "df['AUTHTXN_TXN_ENTRY_MODE'] = label_encoder.fit_transform(df['AUTHTXN_TXN_ENTRY_MODE'])\n",
    "df['AUTHTXN_CNTRYGRP_ID'] = label_encoder.fit_transform(df['AUTHTXN_CNTRYGRP_ID'])\n",
    "df['AUTHTXN_ACQ_COMPONENT_ID'] = label_encoder.fit_transform(df['AUTHTXN_ACQ_COMPONENT_ID'])\n",
    "df['AUTHTXN_VCNTRYGRP_ID'] = label_encoder.fit_transform(df['AUTHTXN_VCNTRYGRP_ID'])\n",
    "df['AUTHTXN_VMCCGRP_ID'] = label_encoder.fit_transform(df['AUTHTXN_VMCCGRP_ID'])\n",
    "df['AUTHTXN_CRDACCT_NO'] = label_encoder.fit_transform(df['AUTHTXN_CRDACCT_NO'])\n",
    "df[\"AUTHTXN_POS_ENTRY_MODE\"] = label_encoder.fit_transform(df['AUTHTXN_POS_ENTRY_MODE'])\n",
    "df[\"AUTHTXN_MCC_ID\"] = label_encoder.fit_transform(df['AUTHTXN_MCC_ID'])\n",
    "df[\"AUTHTXN_CUST_ID\"] = label_encoder.fit_transform(df['AUTHTXN_CUST_ID'])\n"
   ]
  },
  {
   "cell_type": "code",
   "execution_count": null,
   "metadata": {},
   "outputs": [],
   "source": [
    "# Print label encoded value by inversing it\n",
    "# print(list(df['Period_of_time'].unique()))\n",
    "# print(list(label_encoder.inverse_transform(df['Period_of_time'].unique())))\n"
   ]
  },
  {
   "cell_type": "code",
   "execution_count": null,
   "metadata": {},
   "outputs": [],
   "source": [
    "# Then now apply OneHotEncoder\n",
    "# drop one column and make other category as baseline\n",
    "# df = pd.get_dummies(df, columns=[\"Period_of_time\", 'AUTHTXN_CURRENCY_CODE'], \n",
    "#                          drop_first = True)\n",
    "\n",
    "df = pd.get_dummies(df, columns=[\"Period_of_time\", 'AUTHTXN_CURRENCY_CODE'])\n"
   ]
  },
  {
   "cell_type": "markdown",
   "metadata": {},
   "source": [
    "### Scaling\n",
    "We need scaling because if the dispersion is too far away, one feature might over-weight the another feature when comparing and training. <br>\n",
    "https://cdn-images-1.medium.com/max/1200/1*EyPd0sQxEXtTDSJgu72JNQ.jpeg"
   ]
  },
  {
   "cell_type": "code",
   "execution_count": null,
   "metadata": {},
   "outputs": [],
   "source": [
    "# plot amount distribution\n",
    "df['AUTHTXN_REQUEST_AMT'][-30:].plot(x='hour', figsize=(10,5), grid=True)\n",
    "df['AUTHTXN_NET_AMT'][-30:].plot(x='hour', figsize=(10,5), grid=True)\n",
    "plt.legend()\n"
   ]
  },
  {
   "cell_type": "code",
   "execution_count": null,
   "metadata": {},
   "outputs": [],
   "source": [
    "from sklearn.preprocessing import StandardScaler\n",
    "\n",
    "standard_scaler = StandardScaler()   \n",
    "\n",
    "df['AUTHTXN_REQUEST_AMT'] = standard_scaler.fit_transform(df['AUTHTXN_REQUEST_AMT'].values.reshape(-1,1))\n",
    "df['AUTHTXN_NET_AMT'] = standard_scaler.fit_transform(df['AUTHTXN_NET_AMT'].values.reshape(-1,1))\n",
    "df['AUTHTXN_BILLING_TXN_AMT'] = standard_scaler.fit_transform(df['AUTHTXN_BILLING_TXN_AMT'].values.reshape(-1,1))\n"
   ]
  },
  {
   "cell_type": "markdown",
   "metadata": {},
   "source": [
    "### Move AUTHTXN_FRAUD_CHECK as labels to last index for easy see"
   ]
  },
  {
   "cell_type": "code",
   "execution_count": null,
   "metadata": {},
   "outputs": [],
   "source": [
    "fraud_label_df = df['AUTHTXN_FRAUD_CHECK'] \n",
    "df.pop('AUTHTXN_FRAUD_CHECK')\n",
    "df['AUTHTXN_FRAUD_CHECK'] = fraud_label_df\n"
   ]
  },
  {
   "cell_type": "markdown",
   "metadata": {},
   "source": [
    "### Export the new dataset"
   ]
  },
  {
   "cell_type": "code",
   "execution_count": null,
   "metadata": {},
   "outputs": [],
   "source": [
    "df.to_csv(r'D:\\Python Project\\Credit Card Fraud Detection\\cardzone dataset\\preprocessed_data_with_impute.csv', index=False)"
   ]
  },
  {
   "cell_type": "markdown",
   "metadata": {},
   "source": [
    "## Train Test Split"
   ]
  },
  {
   "attachments": {
    "strata-sample.gif": {
     "image/gif": "[encoded data removed]"
    }
   },
   "cell_type": "markdown",
   "metadata": {},
   "source": [
    "Now split the original dataset into train and test with stratify enable to target class.<br><br>\n",
    "The purpose of stratify sampling is to __ensure that in each split must at least got one Fraud__ to counter the problem of higly skewed. <br>\n",
    "For example, if there are 25% of fraud and 75% of non-fraud, stratify will make sure that your random split has 25% of fraud and 75% of non-fraud. <br>\n",
    "Basically asking the model to take the training and test set such that the class proportion is same as of the whole datase\n",
    "![strata-sample.gif](attachment:strata-sample.gif)\n",
    "\n",
    "Random State aims to shuffle and split data randomly __and guarantee that the output of Split 1 will be equal to the output of Split 2__. <br>\n",
    "__The order in which x_train and y_train will not be change__ <br>\n",
    "__Used for reproducing problem the same every time it is run.__ <br>\n",
    "Without random state, everytime run it , it will get a different ordering result <br>\n",
    "0 or 42 is best practices\n",
    "https://stackoverflow.com/questions/28064634/random-state-pseudo-random-numberin-scikit-learn"
   ]
  },
  {
   "cell_type": "markdown",
   "metadata": {},
   "source": [
    "### Extract feature and target"
   ]
  },
  {
   "cell_type": "code",
   "execution_count": null,
   "metadata": {},
   "outputs": [],
   "source": [
    "features = df.iloc[:, df.columns != 'AUTHTXN_FRAUD_CHECK']\n",
    "target = df.iloc[:, df.columns == 'AUTHTXN_FRAUD_CHECK']\n"
   ]
  },
  {
   "cell_type": "code",
   "execution_count": null,
   "metadata": {},
   "outputs": [],
   "source": [
    "from sklearn.model_selection import train_test_split\n",
    "    \n",
    "x_train, x_test, y_train, y_test = train_test_split(features, target, test_size=0.3, random_state=42, stratify=target)\n",
    "\n",
    "print(\"Total numbers of original dataset\", len(x_train)+len(x_test))\n",
    "print(\"Splited numbers of training dataset\", len(x_train))\n",
    "print(\"Splited numbers of testing dataset\", len(x_test), \"\\n\")\n",
    "\n",
    "print(\"Training set\")\n",
    "print(\"==================\")\n",
    "print(\"Total number of legal transaction in training set\", y_train['AUTHTXN_FRAUD_CHECK'].value_counts()[0])\n",
    "print(\"Total number of fraud in training set\", y_train['AUTHTXN_FRAUD_CHECK'].value_counts()[1])\n",
    "print('Training set fraud is {}% \\n'.format(y_train['AUTHTXN_FRAUD_CHECK'].value_counts()[1] / float(df['AUTHTXN_FRAUD_CHECK'].value_counts()[0])*100))\n",
    "\n",
    "print(\"Testing set\")\n",
    "print(\"==================\")\n",
    "print(\"Total number of legal transaction in testing set\", y_test['AUTHTXN_FRAUD_CHECK'].value_counts()[0])\n",
    "print(\"Total number of fraud in testing set\", y_test['AUTHTXN_FRAUD_CHECK'].value_counts()[1])\n",
    "print('Testing set fraud is {}%'.format(y_test['AUTHTXN_FRAUD_CHECK'].value_counts()[1] / float(df['AUTHTXN_FRAUD_CHECK'].value_counts()[0])*100))\n"
   ]
  },
  {
   "cell_type": "markdown",
   "metadata": {},
   "source": [
    "# Model Building\n",
    "For this notebook / python, used Naive Bayes as classifier model.\n"
   ]
  },
  {
   "cell_type": "markdown",
   "metadata": {},
   "source": [
    "## Train the Model\n",
    "Then we can now start evaluate prediction skill by using the testing set"
   ]
  },
  {
   "cell_type": "code",
   "execution_count": null,
   "metadata": {},
   "outputs": [],
   "source": [
    "from sklearn.naive_bayes import GaussianNB \n",
    "from sklearn2pmml.pipeline import PMMLPipeline\n",
    "\n",
    "pipeline = PMMLPipeline([\n",
    "    (\"classifier\", GaussianNB())\n",
    "])\n",
    "\n",
    "pipeline.fit(x_train, y_train.values.ravel())\n"
   ]
  },
  {
   "cell_type": "code",
   "execution_count": null,
   "metadata": {},
   "outputs": [],
   "source": [
    "y_prediction = pipeline.predict(x_test)"
   ]
  },
  {
   "cell_type": "markdown",
   "metadata": {},
   "source": [
    "## Evaluating Classifier Performance"
   ]
  },
  {
   "attachments": {
    "confusion_matrix.png": {
     "image/png": "[encoded data removed]"
    }
   },
   "cell_type": "markdown",
   "metadata": {},
   "source": [
    "After train and fit, take a look at confusion matrix, which is a table that is often used to describe the performance of a classification model\n",
    "\n",
    "1. __True Positives (TP)__\n",
    "True positives are the cases when the actual class of the data point was 1(Fraud) and the predicted is also 1(Fraud)\n",
    "<br>\n",
    "2. __True Negatives (TN)__\n",
    "True negatives are the cases when the actual class of the data point was 0(Legitimate) and the predicted is also 0(Legitimate)\n",
    "<br>\n",
    "3. __False Positives (FP)__\n",
    "False positives are the cases when the actual class of the data point was 0(Legitimate) and the predicted is 1(Fraud). \n",
    "Because the model has predicted incorrectly as a positive (Fraud)\n",
    "<br>\n",
    "4. __False Negatives (FN)__\n",
    "False negatives are the cases when the actual class of the data point was 1(Fraud) and the predicted is 0(Legitimate).\n",
    "Because the model has predicted incorrectly as a negative (Legitimate)\n",
    "\n",
    "![confusion_matrix.png](attachment:confusion_matrix.png)"
   ]
  },
  {
   "cell_type": "markdown",
   "metadata": {},
   "source": [
    "### Score Metrics Description\n",
    "1. __Accuracy__ = Measure of how many correct predictions made by the model, fraud and not fraud \n",
    "2. __Precision__ = Measure of how many actual frauds caught compared to number of all returned results\n",
    "3. __Recall__ = Measure of how many frauds caught compared to the number of actual frauds\n",
    "4. __f1-score__ = Gives the harmonic mean of precision and recall.  2*(Recall * Precision) / (Recall + Precision)\n"
   ]
  },
  {
   "cell_type": "code",
   "execution_count": null,
   "metadata": {},
   "outputs": [],
   "source": [
    "accuracy = accuracy_score(y_test, y_prediction) * 100\n",
    "precison = precision_score(y_test, y_prediction) * 100\n",
    "recall = recall_score(y_test, y_prediction) * 100\n",
    "f1 = f1_score(y_test, y_prediction) * 100\n",
    "\n",
    "print(\"Scores in %\")\n",
    "print(\"===============================\")\n",
    "print(\"Accuracy : \", accuracy)\n",
    "print(\"Precison : \", precison)\n",
    "print(\"Recall   : \", recall)\n",
    "print(\"F1       : \", f1)\n"
   ]
  },
  {
   "cell_type": "code",
   "execution_count": null,
   "metadata": {
    "scrolled": true
   },
   "outputs": [],
   "source": [
    "from sklearn.metrics import classification_report, mean_absolute_error\n",
    "\n",
    "print('---Classification Report---')\n",
    "print(classification_report(y_test, y_prediction))\n",
    "\n",
    "print(\"Model Mean Absolute Error {}\".format(mean_absolute_error(y_test, y_prediction)))\n"
   ]
  },
  {
   "cell_type": "code",
   "execution_count": null,
   "metadata": {
    "scrolled": true
   },
   "outputs": [],
   "source": [
    "# Generate confusion matrix\n",
    "cfm = confusion_matrix(y_test, y_prediction)\n",
    "df_cm = pd.DataFrame(cfm, index = ['True (0)', 'True (1)'])\n",
    "df_cm.columns = ['Predicted (0)', 'Predicted (1)']\n",
    "sns.heatmap(df_cm, annot=True, fmt=\"d\")\n",
    "\n",
    "tn = cfm[0][0]\n",
    "fp = cfm[0][1]\n",
    "tp = cfm[1][1]\n",
    "fn = cfm[1][0]\n"
   ]
  },
  {
   "cell_type": "markdown",
   "metadata": {},
   "source": [
    "### Plot precision-recall curve\n",
    "predict_proba is to calculate the posterior probability of the class label <br>\n",
    "For example, if the probability of occurance of 0 is 0.237, then 1 is 0.762"
   ]
  },
  {
   "cell_type": "code",
   "execution_count": null,
   "metadata": {},
   "outputs": [],
   "source": [
    "# Plot precision-recall curve\n",
    "probas = pipeline.predict_proba(x_test)[:,-1]\n",
    "average_precision = average_precision_score(y_test, probas)\n",
    "precision, recall, _ = precision_recall_curve(y_test, probas)\n",
    "\n",
    "plt.step(recall, precision, color='b', alpha=0.2, where='post')\n",
    "plt.fill_between(recall, precision, step='post', alpha=0.2,color='b')\n",
    "\n",
    "plt.xlabel('Recall')\n",
    "plt.ylabel('Precision')\n",
    "plt.ylim([0.0, 1.05])\n",
    "plt.xlim([0.0, 1.0])\n",
    "plt.title('2-class Precision-Recall curve: AP={0:0.2f}'.format(average_precision))\n"
   ]
  },
  {
   "cell_type": "markdown",
   "metadata": {},
   "source": [
    "### Plot the learning curve"
   ]
  },
  {
   "cell_type": "code",
   "execution_count": null,
   "metadata": {},
   "outputs": [],
   "source": [
    "from sklearn.model_selection import learning_curve, StratifiedKFold\n",
    "\n",
    "skf = StratifiedKFold(n_splits=10)\n"
   ]
  },
  {
   "cell_type": "code",
   "execution_count": null,
   "metadata": {},
   "outputs": [],
   "source": [
    "def plot_learning_curve(estimator, title, X, y, ylim=None, cv=None,\n",
    "                        n_jobs=None, train_sizes=np.linspace(.1, 1.0, 5)):\n",
    "    \"\"\"\n",
    "    Generate a simple plot of the test and training learning curve.\n",
    "\n",
    "    Parameters\n",
    "    ----------\n",
    "    estimator : object type that implements the \"fit\" and \"predict\" methods\n",
    "        An object of that type which is cloned for each validation.\n",
    "\n",
    "    title : string\n",
    "        Title for the chart.\n",
    "\n",
    "    X : array-like, shape (n_samples, n_features)\n",
    "        Training vector, where n_samples is the number of samples and\n",
    "        n_features is the number of features.\n",
    "\n",
    "    y : array-like, shape (n_samples) or (n_samples, n_features), optional\n",
    "        Target relative to X for classification or regression;\n",
    "        None for unsupervised learning.\n",
    "\n",
    "    ylim : tuple, shape (ymin, ymax), optional\n",
    "        Defines minimum and maximum yvalues plotted.\n",
    "\n",
    "    cv : int, cross-validation generator or an iterable, optional\n",
    "        Determines the cross-validation splitting strategy.\n",
    "        Possible inputs for cv are:\n",
    "          - None, to use the default 3-fold cross-validation,\n",
    "          - integer, to specify the number of folds.\n",
    "          - :term:`CV splitter`,\n",
    "          - An iterable yielding (train, test) splits as arrays of indices.\n",
    "\n",
    "        For integer/None inputs, if ``y`` is binary or multiclass,\n",
    "        :class:`StratifiedKFold` used. If the estimator is not a classifier\n",
    "        or if ``y`` is neither binary nor multiclass, :class:`KFold` is used.\n",
    "\n",
    "        Refer :ref:`User Guide <cross_validation>` for the various\n",
    "        cross-validators that can be used here.\n",
    "\n",
    "    n_jobs : int or None, optional (default=None)\n",
    "        Number of jobs to run in parallel.\n",
    "        ``None`` means 1 unless in a :obj:`joblib.parallel_backend` context.\n",
    "        ``-1`` means using all processors. See :term:`Glossary <n_jobs>`\n",
    "        for more details.\n",
    "\n",
    "    train_sizes : array-like, shape (n_ticks,), dtype float or int\n",
    "        Relative or absolute numbers of training examples that will be used to\n",
    "        generate the learning curve. If the dtype is float, it is regarded as a\n",
    "        fraction of the maximum size of the training set (that is determined\n",
    "        by the selected validation method), i.e. it has to be within (0, 1].\n",
    "        Otherwise it is interpreted as absolute sizes of the training sets.\n",
    "        Note that for classification the number of samples usually have to\n",
    "        be big enough to contain at least one sample from each class.\n",
    "        (default: np.linspace(0.1, 1.0, 5))\n",
    "    \"\"\"\n",
    "    plt.figure()\n",
    "    plt.title(title)\n",
    "    if ylim is not None:\n",
    "        plt.ylim(*ylim)\n",
    "    plt.xlabel(\"Training examples\")\n",
    "    plt.ylabel(\"Precision\")\n",
    "    train_sizes, train_scores, test_scores = learning_curve(estimator, X, y, cv=cv, n_jobs=n_jobs, train_sizes=train_sizes, scoring ='precision')\n",
    "    train_scores_mean = np.mean(train_scores, axis=1)\n",
    "    train_scores_std = np.std(train_scores, axis=1)\n",
    "    test_scores_mean = np.mean(test_scores, axis=1)\n",
    "    test_scores_std = np.std(test_scores, axis=1)\n",
    "    plt.grid()\n",
    "\n",
    "    plt.fill_between(train_sizes, train_scores_mean - train_scores_std,\n",
    "                     train_scores_mean + train_scores_std, alpha=0.1,\n",
    "                     color=\"r\")\n",
    "    \n",
    "    plt.fill_between(train_sizes, test_scores_mean - test_scores_std,\n",
    "                     test_scores_mean + test_scores_std, alpha=0.1, color=\"g\")\n",
    "    plt.plot(train_sizes, train_scores_mean, 'o-', color=\"r\",\n",
    "             label=\"Training score\")\n",
    "    \n",
    "    plt.plot(train_sizes, test_scores_mean, 'o-', color=\"g\",\n",
    "             label=\"Cross-validation score\")\n",
    "\n",
    "    plt.legend(loc=\"best\")\n",
    "    return plt\n"
   ]
  },
  {
   "cell_type": "code",
   "execution_count": null,
   "metadata": {},
   "outputs": [],
   "source": [
    "title = \"Learning Curves (Naive Bayes Classifier)\"\n",
    "plot_learning_curve(pipeline, title, x_train, y_train.values.ravel(), cv=skf)"
   ]
  },
  {
   "attachments": {
    "K-fold_cross_validation_EN.jpg": {
     "image/jpeg": "[encoded data removed]"
    }
   },
   "cell_type": "markdown",
   "metadata": {},
   "source": [
    "## Cross-validation\n",
    "\n",
    "To cross-validate, __K-fold cross validation__ is used. 5 fold is used, 10 fold is for small sample size\n",
    "\n",
    "![K-fold_cross_validation_EN.jpg](attachment:K-fold_cross_validation_EN.jpg)"
   ]
  },
  {
   "cell_type": "code",
   "execution_count": null,
   "metadata": {
    "scrolled": true
   },
   "outputs": [],
   "source": [
    "# Use cross-validation to check over-fitting\n",
    "from sklearn.model_selection import cross_val_score\n",
    "\n",
    "precision = cross_val_score(pipeline, x_train, y_train.values.ravel(), cv=skf, scoring='precision')\n",
    "print(\"Precision: %0.2f (+/- %0.2f)\" % (precision.mean(), precision.std()))\n"
   ]
  },
  {
   "cell_type": "markdown",
   "metadata": {},
   "source": [
    "## Export the test set and test the prediction whether it is true or not"
   ]
  },
  {
   "cell_type": "code",
   "execution_count": null,
   "metadata": {},
   "outputs": [],
   "source": [
    "test_set = pd.concat([x_test,y_test], axis=1)"
   ]
  },
  {
   "cell_type": "code",
   "execution_count": null,
   "metadata": {},
   "outputs": [],
   "source": [
    "test_set.to_csv(r'test set.csv')"
   ]
  },
  {
   "cell_type": "code",
   "execution_count": null,
   "metadata": {},
   "outputs": [],
   "source": [
    "test_set.head()"
   ]
  },
  {
   "cell_type": "code",
   "execution_count": null,
   "metadata": {},
   "outputs": [],
   "source": [
    "# print the row to show out\n",
    "# non-fraud\n",
    "# pd.concat([x_test.iloc[:1],y_test.iloc[:1]], axis=1)\n",
    "\n",
    "# fraud\n",
    "pd.concat([x_test.iloc[4:5],y_test.iloc[4:5]], axis=1)"
   ]
  },
  {
   "cell_type": "code",
   "execution_count": null,
   "metadata": {},
   "outputs": [],
   "source": [
    "x_test.iloc[4:5].to_string(header=False, index=False, index_names=False)"
   ]
  },
  {
   "cell_type": "code",
   "execution_count": null,
   "metadata": {},
   "outputs": [],
   "source": [
    "# Prediction on that row\n",
    "# predict_proba(X)\n",
    "model.predict(list(x_test.iloc[4:5].values))\n"
   ]
  },
  {
   "cell_type": "code",
   "execution_count": null,
   "metadata": {},
   "outputs": [],
   "source": [
    "# gives the probability for every class, \n",
    "model.predict_proba(list(x_test.iloc[4:5].values))"
   ]
  },
  {
   "cell_type": "markdown",
   "metadata": {},
   "source": [
    "# Export the model"
   ]
  },
  {
   "cell_type": "code",
   "execution_count": null,
   "metadata": {},
   "outputs": [],
   "source": [
    "import joblib\n",
    "joblib.dump(model, 'NaiveBayesClassifier.joblib')"
   ]
  },
  {
   "cell_type": "code",
   "execution_count": null,
   "metadata": {},
   "outputs": [],
   "source": [
    "# load the model\n",
    "naive_bayes = joblib.load(\"NaiveBayesClassifier.joblib\")"
   ]
  },
  {
   "cell_type": "code",
   "execution_count": null,
   "metadata": {},
   "outputs": [],
   "source": [
    "naive_bayes.predict(list(x_test.iloc[4:5].values))"
   ]
  },
  {
   "cell_type": "code",
   "execution_count": null,
   "metadata": {},
   "outputs": [],
   "source": [
    "from sklearn2pmml import sklearn2pmml\n",
    "\n",
    "# with_repr: boolean, optional\n",
    "# If true, insert the string representation of pipeline into the PMML document.\n",
    "\n",
    "# debug: boolean, optional\n",
    "# If true, print information about the conversion operation.\n",
    "sklearn2pmml(pipeline, \"NaiveBayesClassifier2.pmml\", with_repr = True, debug = True)"
   ]
  },
  {
   "cell_type": "markdown",
   "metadata": {},
   "source": [
    "### Export as Java"
   ]
  },
  {
   "cell_type": "code",
   "execution_count": null,
   "metadata": {
    "scrolled": false
   },
   "outputs": [],
   "source": [
    "from sklearn_porter import Porter\n",
    "\n",
    "porter = Porter(pipeline, language='java')\n",
    "output = porter.export()\n",
    "\n",
    "# Embededd the if else rule data inside java class\n",
    "# output = porter.export(embed_data=True)\n",
    "\n",
    "# Export the if else rule data as json file\n",
    "# output = porter.export(export_data=True)\n",
    "\n",
    "print(output)"
   ]
  },
  {
   "cell_type": "markdown",
   "metadata": {},
   "source": [
    "## Save classifier, then compile it using javac -cp . GaussianNB.java"
   ]
  },
  {
   "cell_type": "code",
   "execution_count": null,
   "metadata": {},
   "outputs": [],
   "source": [
    "with open('GaussianNB.java', 'w') as f:\n",
    "    f.write(output)"
   ]
  },
  {
   "cell_type": "markdown",
   "metadata": {},
   "source": [
    "## Run classification"
   ]
  },
  {
   "cell_type": "code",
   "execution_count": null,
   "metadata": {},
   "outputs": [],
   "source": [
    "# java -cp .:gson.jar DecisionTreeClassifier data.json 1 2 3 4"
   ]
  }
 ],
 "metadata": {
  "kernelspec": {
   "display_name": "Python 3",
   "language": "python",
   "name": "python3"
  },
  "language_info": {
   "codemirror_mode": {
    "name": "ipython",
    "version": 3
   },
   "file_extension": ".py",
   "mimetype": "text/x-python",
   "name": "python",
   "nbconvert_exporter": "python",
   "pygments_lexer": "ipython3",
   "version": "3.6.5"
  }
 },
 "nbformat": 4,
 "nbformat_minor": 1
}
